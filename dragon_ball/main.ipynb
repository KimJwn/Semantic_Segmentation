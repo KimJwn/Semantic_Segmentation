{
 "cells": [
  {
   "cell_type": "code",
   "execution_count": 12,
   "metadata": {},
   "outputs": [],
   "source": [
    "\n",
    "import pandas as pd\n",
    "import numpy as np\n",
    "import matplotlib.pyplot as plt\n",
    "from pathlib import Path\n",
    "\n",
    "import torch\n",
    "import torch.nn as nn\n",
    "from torch.autograd import Variable\n",
    "from torch.utils.data import DataLoader, Dataset, random_split\n",
    "import torchvision.transforms as transforms\n",
    "import torchmetrics\n",
    "\n",
    "from utils.train_utils import *\n",
    "from model.unet import UNet16\n",
    "\n",
    "\n",
    "import warnings\n",
    "warnings.filterwarnings('ignore')"
   ]
  },
  {
   "cell_type": "code",
   "execution_count": 13,
   "metadata": {},
   "outputs": [],
   "source": [
    "\n",
    "save_dir = '/home/jovyan/G1/dragon_ball/utils'"
   ]
  },
  {
   "cell_type": "code",
   "execution_count": 14,
   "metadata": {},
   "outputs": [],
   "source": [
    "\n",
    "import argparse\n",
    "def parse_args():\n",
    "\tparser = argparse.ArgumentParser(description='CRACK SEGMENTATION')\n",
    "\tparser.add_argument('--batch_size', '-b', type=int, default=4)\n",
    "\tparser.add_argument('--train', '-t', default=True)\n",
    "\tparser.add_argument('--project_name', '-n', default='crack_seg')\n",
    "\tparser.add_argument('--seed', type=int, default=11)\n",
    "\tparser.add_argument('--save_model', '-s', action='store_true', default=False)\n",
    "\n",
    "\treturn parser.parse_args()\n",
    "\n",
    "\n",
    "def check_mkdir(dir_name):\n",
    "\tif not os.path.exists(dir_name):\n",
    "\t\tos.mkdir(dir_name)\n"
   ]
  },
  {
   "cell_type": "code",
   "execution_count": 42,
   "metadata": {},
   "outputs": [],
   "source": [
    "\n",
    "def train(train_loader, model, optimizer, criterion, logger):\n",
    "\tmetrics = 0\n",
    "\tmodel.train()\n",
    "\tlosses = []\n",
    "\t\n",
    "\tfor batch_idx, (image, label) in enumerate(train_loader):\n",
    "\t\tprint(batch_idx)\n",
    "\t\toptimizer.zero_grad()\n",
    "\t\t# Forward \n",
    "\t\toutput = model(image)\n",
    "\t\t# loss_func\n",
    "\t\tloss = criterion(output, label)\n",
    "\t\t# metrics\t#\n",
    "\t\tlosses.append(loss)\n",
    "\t\tlogger.info(loss)\n",
    "\t\t#\t\t\t#\n",
    "\n",
    "\n",
    "\t\t# Gradinet \n",
    "\t\tloss.backward()   \n",
    "\t\t# weight update \n",
    "\t\toptimizer.step() \n",
    "\t#\n",
    "\treturn metrics, losses\n",
    "\n",
    "def test(test_loader, model, criterion, logger):\n",
    "\tmetrics = 0\n",
    "\tmodel.eval()\n",
    "\tlosses = []\n",
    "\n",
    "\twith torch.no_grad():\n",
    "\t\tfor batch_idx, (image, label) in enumerate(test_loader):\n",
    "\t\t\t# Forward \n",
    "\t\t\toutputs = model(image) \n",
    "\t\t\t# loss_func \n",
    "\t\t\tloss = criterion(outputs, label)\n",
    "\t\t\t# metrics\t#\n",
    "\t\t\tlosses.append(loss)\n",
    "\t\t\t# accuracy = torchmetrics.Accuracy()\n",
    "\t\t\t# preds = torch.argmax(loss, dim=1)\n",
    "\t\t\t# print(accuracy(preds, label))\n",
    "\t\t\t#\t\t\t#\n",
    "\treturn metrics, losses\n"
   ]
  },
  {
   "cell_type": "code",
   "execution_count": 40,
   "metadata": {},
   "outputs": [
    {
     "name": "stdout",
     "output_type": "stream",
     "text": [
      "1.12.0+cu116 ['/home/jovyan/.venv/torch1.10.0-py3.8-cuda11.3/lib/python3.8/site-packages/torch/cuda']\n",
      "2\n"
     ]
    }
   ],
   "source": [
    "\n",
    "from data.Dataset import CrackDataset\n",
    "# parser = argparse.ArgumentParser(description='CRACK SEGMENTATION')\n",
    "# parser.add_argument('--batch_size', '-b', type=int, default=4)\n",
    "# parser.add_argument('--train', '-t', default=True)\n",
    "# parser.add_argument('--project_name', '-n', default='crack_seg')\n",
    "# parser.add_argument('--seed', type=int, default=11)\n",
    "# parser.add_argument('--save_model', '-s', action='store_true', default=False)\n",
    "# args = parse_args()\n",
    "\n",
    "seed = 11\n",
    "save_model = False\n",
    "project_name = 'crack_seg'\n",
    "no_cuda = True\n",
    "\n",
    "#\n",
    "lr = 0.001\n",
    "momentum = 0.9\n",
    "weight_decay = 1e-4\n",
    "batch_size = 4\n",
    "num_workers = 4\n",
    "epoches = 1 # 50\n",
    "batch_size, num_workers = 16,4\n",
    "\n",
    "torch.manual_seed(seed)\n",
    "\n",
    "#\n",
    "print(torch.__version__, torch.cuda.__path__)\t\n",
    "use_cuda = not no_cuda and torch.cuda.is_available()\n",
    "# device_id = int(os.environ[\"RANK\"])\n",
    "# print(os.environ)\n",
    "\n",
    "#GPU 갯수 확인\n",
    "AVAIL_GPUS = max(1, torch.cuda.device_count())\n",
    "print(AVAIL_GPUS)"
   ]
  },
  {
   "cell_type": "code",
   "execution_count": 43,
   "metadata": {},
   "outputs": [
    {
     "name": "stdout",
     "output_type": "stream",
     "text": [
      "result/crack_seg/\n",
      "gpu\n",
      "0\n"
     ]
    }
   ],
   "source": [
    "\n",
    "path = create_save_dir(project_name)\n",
    "print(path)\n",
    "\n",
    "logger = get_log(path)\n",
    "\n",
    "#\n",
    "device = torch.device(\"cuda:0\" if torch.cuda.is_available() else \"cpu\")\n",
    "print(\"gpu\") if torch.cuda.is_available() else print(\"cpu\")\n",
    "\n",
    "#\n",
    "train_loader = CrackDataset(split='train')\n",
    "test_loader = CrackDataset(split='test')\n",
    "\n",
    "#\n",
    "model = UNet16(pretrained=False)\n",
    "\n",
    "#\n",
    "optimizer = torch.optim.SGD(model.parameters(), lr,\n",
    "\t\t\t\t\t\t\t\tmomentum=momentum,\n",
    "\t\t\t\t\t\t\t\tweight_decay=weight_decay)\n",
    "\n",
    "#\n",
    "criterion = torch.nn.BCEWithLogitsLoss().to('cuda')\n",
    "\n",
    "if save_model:\n",
    "\ttorch.save(model.state_dict())\n",
    "\n",
    "for epoch in range(epoches):\n",
    "\t# train\n",
    "\tmetrics, loss = train(train_loader, model, optimizer, criterion, logger)\n",
    "\n",
    "\t#test\n",
    "\ttest_metrics, test_loss = test(test_loader, model, criterion, logger)\n",
    "\n",
    "\tif epoch == epoches-1:\n",
    "\t\tprint(epoch)\n",
    "\t"
   ]
  },
  {
   "cell_type": "code",
   "execution_count": 28,
   "metadata": {},
   "outputs": [
    {
     "name": "stdout",
     "output_type": "stream",
     "text": [
      "0 0\n",
      "[] []\n"
     ]
    }
   ],
   "source": [
    "print(metrics, test_metrics)\n",
    "print(loss, test_loss)"
   ]
  },
  {
   "cell_type": "code",
   "execution_count": 45,
   "metadata": {},
   "outputs": [
    {
     "name": "stderr",
     "output_type": "stream",
     "text": [
      "2022-10-17 13:29:17,663 - 1\n",
      "2022-10-17 13:29:17,663 - 1\n",
      "2022-10-17 13:29:17,663 - 1\n",
      "2022-10-17 13:29:17,663 - 1\n",
      "2022-10-17 13:29:17,663 - 1\n",
      "2022-10-17 13:29:17,663 - 1\n",
      "2022-10-17 13:29:17,663 - 1\n",
      "2022-10-17 13:29:17,663 - 1\n",
      "2022-10-17 13:29:17,663 - 1\n",
      "2022-10-17 13:29:17,663 - 1\n",
      "2022-10-17 13:29:17,663 - 1\n"
     ]
    }
   ],
   "source": [
    "logger.info(\"1\")"
   ]
  },
  {
   "cell_type": "code",
   "execution_count": 39,
   "metadata": {},
   "outputs": [
    {
     "name": "stderr",
     "output_type": "stream",
     "text": [
      "2022-10-17 13:07:10,159 - loss testing19\n",
      "2022-10-17 13:07:10,159 - loss testing19\n",
      "2022-10-17 13:07:10,159 - loss testing19\n",
      "2022-10-17 13:07:10,159 - loss testing19\n",
      "2022-10-17 13:07:10,159 - loss testing19\n",
      "2022-10-17 13:07:10,159 - loss testing19\n",
      "2022-10-17 13:07:10,159 - loss testing19\n",
      "2022-10-17 13:07:10,159 - loss testing19\n",
      "2022-10-17 13:07:10,159 - loss testing19\n"
     ]
    }
   ],
   "source": [
    "logger.info(\"loss testing\"+str(19))"
   ]
  },
  {
   "cell_type": "code",
   "execution_count": null,
   "metadata": {},
   "outputs": [],
   "source": []
  }
 ],
 "metadata": {
  "kernelspec": {
   "display_name": "Python 3.8.10 ('torch1.10.0-py3.8-cuda11.3': venv)",
   "language": "python",
   "name": "python3"
  },
  "language_info": {
   "codemirror_mode": {
    "name": "ipython",
    "version": 3
   },
   "file_extension": ".py",
   "mimetype": "text/x-python",
   "name": "python",
   "nbconvert_exporter": "python",
   "pygments_lexer": "ipython3",
   "version": "3.8.10 (default, Nov 26 2021, 20:14:08) \n[GCC 9.3.0]"
  },
  "orig_nbformat": 4,
  "vscode": {
   "interpreter": {
    "hash": "cf2200ddf320781e4b9e904cef4e7561babc6526e923f344c445aa8c9727ae72"
   }
  }
 },
 "nbformat": 4,
 "nbformat_minor": 2
}
