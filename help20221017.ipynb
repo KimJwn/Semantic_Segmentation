{
 "cells": [
  {
   "cell_type": "code",
   "execution_count": 1,
   "metadata": {},
   "outputs": [
    {
     "ename": "ModuleNotFoundError",
     "evalue": "No module named 'loss'",
     "output_type": "error",
     "traceback": [
      "\u001b[0;31m---------------------------------------------------------------------------\u001b[0m",
      "\u001b[0;31mModuleNotFoundError\u001b[0m                       Traceback (most recent call last)",
      "\u001b[1;32m/home/jovyan/G1/help20221017.ipynb 셀 1\u001b[0m in \u001b[0;36m<module>\u001b[0;34m\u001b[0m\n\u001b[1;32m     <a href='vscode-notebook-cell://ssh-remote%2Baiclops_cheetah/home/jovyan/G1/help20221017.ipynb#W0sdnNjb2RlLXJlbW90ZQ%3D%3D?line=25'>26</a>\u001b[0m \u001b[39mfrom\u001b[39;00m \u001b[39mtorch\u001b[39;00m \u001b[39mimport\u001b[39;00m nn\n\u001b[1;32m     <a href='vscode-notebook-cell://ssh-remote%2Baiclops_cheetah/home/jovyan/G1/help20221017.ipynb#W0sdnNjb2RlLXJlbW90ZQ%3D%3D?line=26'>27</a>\u001b[0m \u001b[39mfrom\u001b[39;00m \u001b[39mtorch\u001b[39;00m\u001b[39m.\u001b[39;00m\u001b[39mutils\u001b[39;00m\u001b[39m.\u001b[39;00m\u001b[39mdata\u001b[39;00m \u001b[39mimport\u001b[39;00m Dataset, DataLoader\n\u001b[0;32m---> <a href='vscode-notebook-cell://ssh-remote%2Baiclops_cheetah/home/jovyan/G1/help20221017.ipynb#W0sdnNjb2RlLXJlbW90ZQ%3D%3D?line=28'>29</a>\u001b[0m \u001b[39mfrom\u001b[39;00m \u001b[39mloss\u001b[39;00m \u001b[39mimport\u001b[39;00m HardNetLoss, CorrelationPenaltyLoss\n\u001b[1;32m     <a href='vscode-notebook-cell://ssh-remote%2Baiclops_cheetah/home/jovyan/G1/help20221017.ipynb#W0sdnNjb2RlLXJlbW90ZQ%3D%3D?line=30'>31</a>\u001b[0m \u001b[39mfrom\u001b[39;00m \u001b[39mdata\u001b[39;00m\u001b[39m.\u001b[39;00m\u001b[39mDataset\u001b[39;00m \u001b[39mimport\u001b[39;00m CrackDataset\n\u001b[1;32m     <a href='vscode-notebook-cell://ssh-remote%2Baiclops_cheetah/home/jovyan/G1/help20221017.ipynb#W0sdnNjb2RlLXJlbW90ZQ%3D%3D?line=31'>32</a>\u001b[0m \u001b[39mimport\u001b[39;00m \u001b[39mtorchvision\u001b[39;00m\u001b[39m.\u001b[39;00m\u001b[39mtransforms\u001b[39;00m \u001b[39mas\u001b[39;00m \u001b[39mtransforms\u001b[39;00m\n",
      "\u001b[0;31mModuleNotFoundError\u001b[0m: No module named 'loss'"
     ]
    }
   ],
   "source": [
    "import os\n",
    "import yaml\n",
    "import time\n",
    "import shutil\n",
    "import torch\n",
    "import random\n",
    "import argparse\n",
    "import numpy as np\n",
    "import torch.nn as nn\n",
    "from math import log10, floor\n",
    "from PIL import Image\n",
    "import pandas as pd\n",
    "import numpy as np\n",
    "import matplotlib.pyplot as plt\n",
    "import cv2\n",
    "from tqdm.autonotebook import tqdm\n",
    "import pytorch_lightning as pl\n",
    "\n",
    "from abc import ABC\n",
    "from glob import glob\n",
    "from torch.utils import data\n",
    "from pytorch_lightning import LightningModule\n",
    "from pytorch_lightning.utilities.types import EPOCH_OUTPUT\n",
    "from pytorch_lightning.loggers import WandbLogger\n",
    "from pytorch_lightning import loggers as pl_loggers\n",
    "from torch import nn\n",
    "from torch.utils.data import Dataset, DataLoader\n",
    "\n",
    "from loss import HardNetLoss, CorrelationPenaltyLoss\n",
    "\n",
    "from data.Dataset import CrackDataset\n",
    "import torchvision.transforms as transforms"
   ]
  },
  {
   "cell_type": "code",
   "execution_count": 7,
   "metadata": {},
   "outputs": [
    {
     "name": "stdout",
     "output_type": "stream",
     "text": [
      "1.12.0+cu116\n",
      "['/home/jovyan/.venv/torch1.10.0-py3.8-cuda11.3/lib/python3.8/site-packages/torch/cuda']\n"
     ]
    }
   ],
   "source": [
    "print(torch.__version__)\n",
    "print(torch.cuda.__path__)"
   ]
  },
  {
   "cell_type": "code",
   "execution_count": null,
   "metadata": {},
   "outputs": [],
   "source": [
    "# wandb Key를 프로젝트 공용 키로 바꾸고 항상 재로그인\n",
    "%env WANDB_API_KEY= 467dd430827bd3d12c84a54f4a72dac302f2bede\n",
    "! wandb login"
   ]
  }
 ],
 "metadata": {
  "kernelspec": {
   "display_name": "Python 3.8.10 ('torch1.10.0-py3.8-cuda11.3': venv)",
   "language": "python",
   "name": "python3"
  },
  "language_info": {
   "codemirror_mode": {
    "name": "ipython",
    "version": 3
   },
   "file_extension": ".py",
   "mimetype": "text/x-python",
   "name": "python",
   "nbconvert_exporter": "python",
   "pygments_lexer": "ipython3",
   "version": "3.8.10"
  },
  "orig_nbformat": 4,
  "vscode": {
   "interpreter": {
    "hash": "cf2200ddf320781e4b9e904cef4e7561babc6526e923f344c445aa8c9727ae72"
   }
  }
 },
 "nbformat": 4,
 "nbformat_minor": 2
}
